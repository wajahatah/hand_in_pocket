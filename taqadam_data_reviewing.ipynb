{
 "cells": [
  {
   "cell_type": "markdown",
   "id": "8639190a",
   "metadata": {},
   "source": [
    "### Downlaod images from the urls given in the txt file, code is update for the num of txt files inside folder\n",
    "### Save the images with the same name of the txt file"
   ]
  },
  {
   "cell_type": "code",
   "execution_count": null,
   "id": "12e4d282",
   "metadata": {},
   "outputs": [],
   "source": [
    "import os\n",
    "import requests\n",
    "from tqdm import tqdm\n",
    "\n",
    "# === CONFIGURATION ===\n",
    "# txt_path = \"C:/Users/LT/Downloads/original_images_url_project_3964 (1).txt\"     # Path to your text file\n",
    "txt_folder = \"C:/Users/LT/Downloads/original_images_url_project_group_112/media/images\"\n",
    "output_dir = \"C:/wajahat/hand_in_pocket/dataset/images_bb\"     # Where to save images\n",
    "timeout_sec = 20                     # Timeout for each request (seconds)\n",
    "\n",
    "# === CREATE OUTPUT FOLDER ===\n",
    "os.makedirs(output_dir, exist_ok=True)\n",
    "\n",
    "txt_files = [f for f in os.listdir(txt_folder) if f.endswith(\".txt\")]\n",
    "\n",
    "if not txt_files:\n",
    "    print(\"❌ No .txt files found in the folder.\")\n",
    "\n",
    "for txt_file in txt_files:\n",
    "\n",
    "    txt_path = os.path.join(txt_folder, txt_file)\n",
    "    base_name = os.path.splitext(txt_file)[0]\n",
    "    save_folder = os.path.join(output_dir, base_name)\n",
    "\n",
    "    os.makedirs(save_folder, exist_ok=True)\n",
    "# === READ ALL URLS ===\n",
    "    with open(txt_path, \"r\", encoding=\"utf-8\") as f:\n",
    "        urls = [line.strip().strip('\"') for line in f if line.strip()]\n",
    "\n",
    "    print(f\"🧾 Found {len(urls)} image URLs in {txt_path}\")\n",
    "\n",
    "    # === DOWNLOAD LOOP ===\n",
    "    for url in tqdm(urls, desc=\"Downloading images\"):\n",
    "        # Extract filename (remove query parameters)\n",
    "        filename = os.path.basename(url.split(\"?\")[0])\n",
    "        # save_path = os.path.join(output_dir, filename)\n",
    "        save_path = os.path.join(save_folder, filename)\n",
    "\n",
    "        # Skip if already downloaded\n",
    "        if os.path.exists(save_path):\n",
    "            continue\n",
    "\n",
    "        try:\n",
    "            response = requests.get(url, stream=True, timeout=timeout_sec)\n",
    "            if response.status_code == 200:\n",
    "                with open(save_path, \"wb\") as f:\n",
    "                    for chunk in response.iter_content(8192):\n",
    "                        f.write(chunk)\n",
    "            else:\n",
    "                print(f\"⚠️ Failed {filename}: HTTP {response.status_code}\")\n",
    "        except Exception as e:\n",
    "            print(f\"❌ Error downloading {filename}: {e}\")\n",
    "\n",
    "    print(f\"✅ Finished '{txt_file}' — Saved in: {save_folder}\\n\")\n",
    "\n",
    "print(\"\\n🎉 All downloads complete!\")\n",
    "\n",
    "# print(\"\\n✅ Download complete! Check your 'downloaded_images' folder.\")\n"
   ]
  }
 ],
 "metadata": {
  "kernelspec": {
   "display_name": "pose",
   "language": "python",
   "name": "python3"
  },
  "language_info": {
   "name": "python",
   "version": "3.11.13"
  }
 },
 "nbformat": 4,
 "nbformat_minor": 5
}
